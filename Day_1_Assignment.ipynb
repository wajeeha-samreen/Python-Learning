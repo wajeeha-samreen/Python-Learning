{
  "nbformat": 4,
  "nbformat_minor": 0,
  "metadata": {
    "colab": {
      "provenance": []
    },
    "kernelspec": {
      "name": "python3",
      "display_name": "Python 3"
    },
    "language_info": {
      "name": "python"
    }
  },
  "cells": [
    {
      "cell_type": "markdown",
      "source": [
        "how would you confirm that two strings have the same identity?"
      ],
      "metadata": {
        "id": "2QTPjwklEZTu"
      }
    },
    {
      "cell_type": "code",
      "source": [
        "#Test Case 1\n",
        "string_num1 = \"Hi\"\n",
        "string_num2 = \"Hi\"\n",
        "\n",
        "if string_num1 is string_num2:\n",
        "  print(\"The two strings have the same identity.\")\n",
        "else:\n",
        "  print(\"The two strings do not have the same identity.\")"
      ],
      "metadata": {
        "colab": {
          "base_uri": "https://localhost:8080/"
        },
        "id": "_hCGBq24EUCQ",
        "outputId": "c14e29c6-e026-436d-ed81-259f12088cd6"
      },
      "execution_count": 6,
      "outputs": [
        {
          "output_type": "stream",
          "name": "stdout",
          "text": [
            "The two strings have the same identity.\n"
          ]
        }
      ]
    },
    {
      "cell_type": "code",
      "source": [
        "#Test Case 2\n",
        "string_num1 = \"Hello I'm Wajeeha\"\n",
        "string_num2 = \"Hello I'm Wajeeha\"\n",
        "\n",
        "if string_num1 is string_num2:\n",
        "  print(\"The two strings have the same identity.\")\n",
        "else:\n",
        "  print(\"The two strings do not have the same identity.\")\n"
      ],
      "metadata": {
        "colab": {
          "base_uri": "https://localhost:8080/"
        },
        "id": "0zfwAKX1Ep4a",
        "outputId": "0256ab8d-be1b-423f-fc2a-083aaff488bb"
      },
      "execution_count": 8,
      "outputs": [
        {
          "output_type": "stream",
          "name": "stdout",
          "text": [
            "The two strings do not have the same identity.\n"
          ]
        }
      ]
    },
    {
      "cell_type": "markdown",
      "source": [
        "How to find the length and index of the string?"
      ],
      "metadata": {
        "id": "egsT-fDoE22n"
      }
    },
    {
      "cell_type": "code",
      "source": [
        "x = \"we are coders\"\n",
        "\n",
        "# To Find the length of a string\n",
        "x_length = len(x)\n",
        "print(\"Length of the string:\",x_length)\n",
        "# To Find the index of a string\n",
        "sub_x = \"are\"\n",
        "index_of_sub_x = x.find(sub_x)\n",
        "print(\"index of the sub string is : \" +str(index_of_sub_x)) # if we don't use str then TypeError: can only concatenate str (not \"int\") to str"
      ],
      "metadata": {
        "colab": {
          "base_uri": "https://localhost:8080/"
        },
        "id": "TRhFiKsyE_ia",
        "outputId": "ab60822b-5c0c-45b8-e8e1-4545eb839026"
      },
      "execution_count": 12,
      "outputs": [
        {
          "output_type": "stream",
          "name": "stdout",
          "text": [
            "Length of the string: 13\n",
            "index of the sub string is : 3\n"
          ]
        }
      ]
    },
    {
      "cell_type": "markdown",
      "source": [
        "how to check a string contain a specific substring"
      ],
      "metadata": {
        "id": "qt2SQ0H6FJr-"
      }
    },
    {
      "cell_type": "code",
      "source": [
        "the_string = \"Hello, World!\"\n",
        "substring = \"World\"\n",
        "\n",
        "#Using conditional statements to check the conditions\n",
        "if substring in the_string:\n",
        "    print(f\"The string contains the substring '{substring}'\")\n",
        "else:\n",
        "    print(f\"The string does not contain the substring '{substring}'\")\n"
      ],
      "metadata": {
        "colab": {
          "base_uri": "https://localhost:8080/"
        },
        "id": "ODTmA_cpFNI1",
        "outputId": "12e37c69-a876-4f81-b03c-4d3b90447c8c"
      },
      "execution_count": 13,
      "outputs": [
        {
          "output_type": "stream",
          "name": "stdout",
          "text": [
            "The string contains the substring 'World'\n"
          ]
        }
      ]
    },
    {
      "cell_type": "code",
      "source": [
        "#Second Method\n",
        "the_string= 'Wajeeha Samreen'\n",
        "'Samreen' in the_string #True Case"
      ],
      "metadata": {
        "colab": {
          "base_uri": "https://localhost:8080/"
        },
        "id": "wKT3aEnbFVkO",
        "outputId": "b8d6524b-797f-45af-8eaa-3011ce90b343"
      },
      "execution_count": 14,
      "outputs": [
        {
          "output_type": "execute_result",
          "data": {
            "text/plain": [
              "True"
            ]
          },
          "metadata": {},
          "execution_count": 14
        }
      ]
    },
    {
      "cell_type": "code",
      "source": [
        "the_string= 'Wajeeha Samreen'\n",
        "'Md' in the_string #False Case"
      ],
      "metadata": {
        "colab": {
          "base_uri": "https://localhost:8080/"
        },
        "id": "3uwFaIg1FZOa",
        "outputId": "11f87637-ef2a-4720-b1ba-f5604f0e0ec0"
      },
      "execution_count": 15,
      "outputs": [
        {
          "output_type": "execute_result",
          "data": {
            "text/plain": [
              "False"
            ]
          },
          "metadata": {},
          "execution_count": 15
        }
      ]
    },
    {
      "cell_type": "markdown",
      "source": [
        "how to a take a string from backward with two step difference?"
      ],
      "metadata": {
        "id": "xd3yWc-qFdZ8"
      }
    },
    {
      "cell_type": "code",
      "source": [
        "#Taking a string\n",
        "the_string = \"Samreen\"\n",
        "\n",
        "#Applying String Slicing\n",
        "result = the_string[::-3]\n",
        "\n",
        "print(\"Original string:\", the_string)\n",
        "print(\"Result string (backward with two-step difference):\", result)\n"
      ],
      "metadata": {
        "colab": {
          "base_uri": "https://localhost:8080/"
        },
        "id": "CCv6XeEuFgGb",
        "outputId": "a72447ac-10c7-477f-acd6-7f7df9d73a0e"
      },
      "execution_count": 17,
      "outputs": [
        {
          "output_type": "stream",
          "name": "stdout",
          "text": [
            "Original string: Samreen\n",
            "Result string (backward with two-step difference): nrS\n"
          ]
        }
      ]
    },
    {
      "cell_type": "markdown",
      "source": [
        "how to find the index of the last element"
      ],
      "metadata": {
        "id": "7lURNwWXFi8B"
      }
    },
    {
      "cell_type": "code",
      "source": [
        "the_string = \"Hi, one and all\"\n",
        "\n",
        "# Finding the last element of the string and it's index value\n",
        "last_index = len(the_string) - 1\n",
        "last_element = the_string[last_index]\n",
        "\n",
        "print(\"Last element:\", last_element)\n",
        "print(\"Index of the last element:\", last_index)\n"
      ],
      "metadata": {
        "colab": {
          "base_uri": "https://localhost:8080/"
        },
        "id": "JSVBL48MFjzR",
        "outputId": "20ab9800-fed5-459b-eb6a-07291a8ba023"
      },
      "execution_count": 19,
      "outputs": [
        {
          "output_type": "stream",
          "name": "stdout",
          "text": [
            "Last element: l\n",
            "Index of the last element: 14\n"
          ]
        }
      ]
    },
    {
      "cell_type": "markdown",
      "source": [
        "Write 2 ways to concatinate the string"
      ],
      "metadata": {
        "id": "RtCFE_KAFqUk"
      }
    },
    {
      "cell_type": "code",
      "source": [
        "# First Way [Using F-strings]\n",
        "string_1 = input(\"Enter the first string: \") #Name\n",
        "string_2 = input(\"Enter the second string: \") #Age\n",
        "result = f'My name is {string_1} and I am {string_2} years old.'\n",
        "print(result)\n"
      ],
      "metadata": {
        "colab": {
          "base_uri": "https://localhost:8080/"
        },
        "id": "vUqPeb1JFtNk",
        "outputId": "3c30fc24-f7af-4f05-8fe9-da7e538c3476"
      },
      "execution_count": 24,
      "outputs": [
        {
          "output_type": "stream",
          "name": "stdout",
          "text": [
            "Enter the first string: Wajeeha\n",
            "Enter the second string: 22\n",
            "My name is Wajeeha and I am 22 years old.\n"
          ]
        }
      ]
    },
    {
      "cell_type": "code",
      "source": [
        "# Second Way [Using '+' operator]\n",
        "string_1 = input(\"Enter the first string: \") #Name\n",
        "string_2 = input(\"Enter the second string: \") #Age\n",
        "result = 'My name is ' + string_1 + ' and I am ' + string_2 + ' years old.'\n",
        "print(result)"
      ],
      "metadata": {
        "colab": {
          "base_uri": "https://localhost:8080/"
        },
        "id": "rwRG0yhAFt4K",
        "outputId": "3e9f283d-dbec-4dff-9ab1-f2b436d29bed"
      },
      "execution_count": 23,
      "outputs": [
        {
          "output_type": "stream",
          "name": "stdout",
          "text": [
            "Enter the first string: Wajeeha\n",
            "Enter the second string: 22\n",
            "My name is Wajeeha and I am 22 years old.\n"
          ]
        }
      ]
    },
    {
      "cell_type": "code",
      "source": [],
      "metadata": {
        "id": "djNOQBu0Fxwz"
      },
      "execution_count": null,
      "outputs": []
    }
  ]
}